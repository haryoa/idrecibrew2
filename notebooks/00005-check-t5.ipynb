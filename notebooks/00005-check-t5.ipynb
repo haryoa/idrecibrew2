{
 "cells": [
  {
   "cell_type": "code",
   "execution_count": 1,
   "metadata": {},
   "outputs": [
    {
     "name": "stdout",
     "output_type": "stream",
     "text": [
      "/mnt/data4/haryoaw_workspace/projects/2021_2/mbekk/idrecibrew2\n"
     ]
    }
   ],
   "source": [
    "%cd ..\n",
    "%load_ext autoreload\n",
    "%autoreload 2"
   ]
  },
  {
   "cell_type": "code",
   "execution_count": 2,
   "metadata": {},
   "outputs": [],
   "source": [
    "from idrecibrew2.data import Seq2SeqDataFactory, Seq2SeqDataFactoryArgs\n",
    "from idrecibrew2.data.indonlg_tokenizer.tokenizer import IndoNLGTokenizer\n",
    "from idrecibrew2.model import LitSeq2SeqTransformers, LitSeq2SeqTransformersArgs"
   ]
  },
  {
   "cell_type": "code",
   "execution_count": 3,
   "metadata": {},
   "outputs": [],
   "source": [
    "from transformers import AutoTokenizer"
   ]
  },
  {
   "cell_type": "code",
   "execution_count": 9,
   "metadata": {},
   "outputs": [],
   "source": [
    "tokenizer = AutoTokenizer.from_pretrained(\"Wikidepia/IndoT5-base\")"
   ]
  },
  {
   "cell_type": "code",
   "execution_count": 7,
   "metadata": {},
   "outputs": [
    {
     "data": {
      "text/plain": [
       "['▁saya', '▁adalah', '▁pen', 'gembala', '▁sapi', '!']"
      ]
     },
     "execution_count": 7,
     "metadata": {},
     "output_type": "execute_result"
    }
   ],
   "source": [
    "tokenizer.tokenize(\"saya adalah pengembala sapi!\")"
   ]
  },
  {
   "cell_type": "code",
   "execution_count": 8,
   "metadata": {},
   "outputs": [
    {
     "data": {
      "text/plain": [
       "32100"
      ]
     },
     "execution_count": 8,
     "metadata": {},
     "output_type": "execute_result"
    }
   ],
   "source": [
    "tokenizer.vocab_size"
   ]
  },
  {
   "cell_type": "code",
   "execution_count": 29,
   "metadata": {},
   "outputs": [],
   "source": [
    "args_seq = Seq2SeqDataFactoryArgs(tokenizer=tokenizer)"
   ]
  },
  {
   "cell_type": "code",
   "execution_count": 30,
   "metadata": {},
   "outputs": [],
   "source": [
    "df =Seq2SeqDataFactory(args_seq)"
   ]
  },
  {
   "cell_type": "code",
   "execution_count": 31,
   "metadata": {},
   "outputs": [
    {
     "data": {
      "application/vnd.jupyter.widget-view+json": {
       "model_id": "574f6459fa8948598c5f4eb7125471de",
       "version_major": 2,
       "version_minor": 0
      },
      "text/plain": [
       "  0%|          | 0/2 [00:00<?, ?ba/s]"
      ]
     },
     "metadata": {},
     "output_type": "display_data"
    }
   ],
   "source": [
    "dl = df.produce_dataloader_from_csv(\"data/processed/test.csv\")"
   ]
  },
  {
   "cell_type": "code",
   "execution_count": 32,
   "metadata": {},
   "outputs": [],
   "source": [
    "rslt = next(iter(dl))"
   ]
  },
  {
   "cell_type": "code",
   "execution_count": 33,
   "metadata": {},
   "outputs": [
    {
     "data": {
      "text/plain": [
       "{'attention_mask': tensor([[1, 1, 1, 1, 1],\n",
       "        [1, 1, 1, 1, 0]]), 'input_ids': tensor([[16689,  2322,   858,  1750,     1],\n",
       "        [16689, 25237,  3434,     1,     0]]), 'labels': tensor([[   86,   749, 16689,    11,     4, 16296,  5555,   858,   228,    11,\n",
       "            75,   721, 14856,    11,     5,    11,     2,  7846,    11,    39,\n",
       "            11,     2,   237,   980,   686,  4439,  1074,    11,     4,  2293,\n",
       "         11961,    11,     5,    11,     2,   173,   980,   686,  4439,   950,\n",
       "            11,     4,  2293, 11961,    11,     5,    11,     2,    78, 11638,\n",
       "          3801,    11,     7,  5448,  5105,    11,     4,  7298,    19,   200,\n",
       "           165,   158,   223,   190,    11,     5,    11,     2,    86,   165,\n",
       "           158,   223,  3191,    11,     2,    78,   165,  8029,  3434,    11,\n",
       "             2,   279,   165,  8029, 14340,  4066,    11,     2,   285,   749,\n",
       "         25237,  1074,    11,     4, 28255,    11,     8,  1535,  3576,  1655,\n",
       "           359,    11,     5,    11,     2,  1218,   485,   282,   190,    11,\n",
       "             2,    11,     1],\n",
       "        [   78,  3442, 16689,    11,     4, 16296,  2107,  1069,    11,     5,\n",
       "            11,     2,   493, 20304,    23,  6683,  7846, 21572,    11,     4,\n",
       "          1535,  9572, 18117,   437, 21572,    11,     5,    11,     2,   324,\n",
       "           980,   686,  4439,   950,    11,     4, 27550,    11,     5,    11,\n",
       "             2,   324, 25237,  1074,    11,     4,  2379,  6405,  1845,  7421,\n",
       "            11,     8, 27550,    11,     5,    11,     2,   493, 20304,    23,\n",
       "          1229,  4439,    11,     2,   493, 20734,   712,  3434,    11,     2,\n",
       "           200, 23551,  1491,  1341,  7307,    11,     4,    21,  6132,  2676,\n",
       "          4439,   950,    11,     5,    11,     2,    11,     1,  -100,  -100,\n",
       "          -100,  -100,  -100,  -100,  -100,  -100,  -100,  -100,  -100,  -100,\n",
       "          -100,  -100,  -100,  -100,  -100,  -100,  -100,  -100,  -100,  -100,\n",
       "          -100,  -100,  -100]])}"
      ]
     },
     "execution_count": 33,
     "metadata": {},
     "output_type": "execute_result"
    }
   ],
   "source": [
    "rslt"
   ]
  },
  {
   "cell_type": "code",
   "execution_count": 82,
   "metadata": {},
   "outputs": [],
   "source": [
    "lit_model_args = LitSeq2SeqTransformersArgs(\n",
    "    vocab_size=tokenizer.vocab_size, model_type=\"Wikidepia/IndoT5-base\"\n",
    ")\n",
    "lit_model = LitSeq2SeqTransformers(config=lit_model_args)"
   ]
  },
  {
   "cell_type": "code",
   "execution_count": null,
   "metadata": {},
   "outputs": [],
   "source": [
    "lit_model.generate(\"\")"
   ]
  },
  {
   "cell_type": "code",
   "execution_count": 75,
   "metadata": {},
   "outputs": [
    {
     "data": {
      "text/plain": [
       "'@'"
      ]
     },
     "execution_count": 75,
     "metadata": {},
     "output_type": "execute_result"
    }
   ],
   "source": [
    "tokenizer.decode([30827])"
   ]
  },
  {
   "cell_type": "code",
   "execution_count": 77,
   "metadata": {},
   "outputs": [
    {
     "data": {
      "text/plain": [
       "{'input_ids': [12281, 30827, 11, 1], 'attention_mask': [1, 1, 1, 1]}"
      ]
     },
     "execution_count": 77,
     "metadata": {},
     "output_type": "execute_result"
    }
   ],
   "source": [
    "tokenizer(\" @@ \")"
   ]
  },
  {
   "cell_type": "markdown",
   "metadata": {},
   "source": [
    "## Check pretrained model"
   ]
  },
  {
   "cell_type": "code",
   "execution_count": 84,
   "metadata": {},
   "outputs": [],
   "source": [
    "recipe_model = LitSeq2SeqTransformers.load_from_checkpoint(\"outputs/indo-t5/model-epoch=27-val_loss=1.287.ckpt\")"
   ]
  },
  {
   "cell_type": "code",
   "execution_count": 170,
   "metadata": {},
   "outputs": [],
   "source": [
    "input_to_dl = tokenizer(\"sop ayam\", return_tensors=\"pt\")"
   ]
  },
  {
   "cell_type": "code",
   "execution_count": 181,
   "metadata": {},
   "outputs": [],
   "source": [
    "result = tokenizer.decode(recipe_model.model.generate(input_to_dl['input_ids'], num_beams=1, max_length=400, top_k=1, repetition_penalty=1.1, do_sample=True)[0])"
   ]
  },
  {
   "cell_type": "code",
   "execution_count": 182,
   "metadata": {},
   "outputs": [
    {
     "data": {
      "text/plain": [
       "'<pad> 1 / 2 kg ayam @@ 3 siung bawang putih @@ 4 siung bawang merah @@ 1 ruas jahe @@ 1 sdt ketumbar bubuk @@ secukupnya garam @@ secukupnya gula pasir @@ secukupnya air @@ minyak untuk menumis @@ </s>'"
      ]
     },
     "execution_count": 182,
     "metadata": {},
     "output_type": "execute_result"
    }
   ],
   "source": [
    "result"
   ]
  },
  {
   "cell_type": "markdown",
   "metadata": {},
   "source": [
    "## Processed for T5"
   ]
  },
  {
   "cell_type": "code",
   "execution_count": 189,
   "metadata": {},
   "outputs": [],
   "source": [
    "import pandas as pd"
   ]
  },
  {
   "cell_type": "code",
   "execution_count": 190,
   "metadata": {},
   "outputs": [],
   "source": [
    "for data in [\"train\", \"dev\", \"test\"]:\n",
    "    df = pd.read_csv(f\"data/processed/{data}.csv\")\n",
    "    df['tgt'] = df.tgt.str.replace(\"||\", \"@@\", regex=False)\n",
    "    df['tgt'] = \"resep: \" + df.tgt\n",
    "    df.to_csv(f\"data/processed/{data}_t5.csv\", index=False)"
   ]
  },
  {
   "cell_type": "code",
   "execution_count": 191,
   "metadata": {},
   "outputs": [
    {
     "data": {
      "text/html": [
       "<div>\n",
       "<style scoped>\n",
       "    .dataframe tbody tr th:only-of-type {\n",
       "        vertical-align: middle;\n",
       "    }\n",
       "\n",
       "    .dataframe tbody tr th {\n",
       "        vertical-align: top;\n",
       "    }\n",
       "\n",
       "    .dataframe thead th {\n",
       "        text-align: right;\n",
       "    }\n",
       "</style>\n",
       "<table border=\"1\" class=\"dataframe\">\n",
       "  <thead>\n",
       "    <tr style=\"text-align: right;\">\n",
       "      <th></th>\n",
       "      <th>no</th>\n",
       "      <th>src</th>\n",
       "      <th>tgt</th>\n",
       "      <th>basic_ingredient</th>\n",
       "    </tr>\n",
       "  </thead>\n",
       "  <tbody>\n",
       "    <tr>\n",
       "      <th>0</th>\n",
       "      <td>12913</td>\n",
       "      <td>sambel tempe kering</td>\n",
       "      <td>resep: 1 papan tempe  yg ukuran 20 cm @@ 8 bua...</td>\n",
       "      <td>tempe</td>\n",
       "    </tr>\n",
       "    <tr>\n",
       "      <th>1</th>\n",
       "      <td>13472</td>\n",
       "      <td>oily oseng/tumis buncis tempe kecap (🇮🇩)</td>\n",
       "      <td>resep: bahan :  @@ 15 - 20 batang buncis ,  ir...</td>\n",
       "      <td>tempe</td>\n",
       "    </tr>\n",
       "    <tr>\n",
       "      <th>2</th>\n",
       "      <td>12167</td>\n",
       "      <td>asam manis tempe sosis telur puyuh</td>\n",
       "      <td>resep: 1 papan tempe @@ sosis  ( merk apa aja ...</td>\n",
       "      <td>tempe</td>\n",
       "    </tr>\n",
       "    <tr>\n",
       "      <th>3</th>\n",
       "      <td>13076</td>\n",
       "      <td>oreg tempe</td>\n",
       "      <td>resep: 1 papan tempe @@ secukupnya buncis @@ 3...</td>\n",
       "      <td>tempe</td>\n",
       "    </tr>\n",
       "    <tr>\n",
       "      <th>4</th>\n",
       "      <td>3224</td>\n",
       "      <td>ikan bandeng presto salted egg (telur asin)</td>\n",
       "      <td>resep: 2 buah bandeng presto @@ 3 butir telur ...</td>\n",
       "      <td>ikan</td>\n",
       "    </tr>\n",
       "    <tr>\n",
       "      <th>...</th>\n",
       "      <td>...</td>\n",
       "      <td>...</td>\n",
       "      <td>...</td>\n",
       "      <td>...</td>\n",
       "    </tr>\n",
       "    <tr>\n",
       "      <th>1275</th>\n",
       "      <td>5827</td>\n",
       "      <td>lapis daging sapi</td>\n",
       "      <td>resep: 750 daging sapi  ( khas dalam )  @@ 3 l...</td>\n",
       "      <td>sapi</td>\n",
       "    </tr>\n",
       "    <tr>\n",
       "      <th>1276</th>\n",
       "      <td>2448</td>\n",
       "      <td>pesmol ikan nila</td>\n",
       "      <td>resep: 2 ekor ikan nila @@ 1 buah jeruk nipis ...</td>\n",
       "      <td>ikan</td>\n",
       "    </tr>\n",
       "    <tr>\n",
       "      <th>1277</th>\n",
       "      <td>11007</td>\n",
       "      <td>cloud tuna &amp; egg #ketofriendly #ketopad_cp_sav...</td>\n",
       "      <td>resep: 3 butir telur ayam ,  pisahkan putih da...</td>\n",
       "      <td>telur</td>\n",
       "    </tr>\n",
       "    <tr>\n",
       "      <th>1278</th>\n",
       "      <td>8064</td>\n",
       "      <td>pepes tahu</td>\n",
       "      <td>resep: 3 biji tahu putih @@ 2 batang daun bawa...</td>\n",
       "      <td>tahu</td>\n",
       "    </tr>\n",
       "    <tr>\n",
       "      <th>1279</th>\n",
       "      <td>3494</td>\n",
       "      <td>tenggiri bumbu bali</td>\n",
       "      <td>resep: 4 ekor ikan tenggiri @@ 1 buah jeruk ni...</td>\n",
       "      <td>ikan</td>\n",
       "    </tr>\n",
       "  </tbody>\n",
       "</table>\n",
       "<p>1280 rows × 4 columns</p>\n",
       "</div>"
      ],
      "text/plain": [
       "         no                                                src  \\\n",
       "0     12913                                sambel tempe kering   \n",
       "1     13472           oily oseng/tumis buncis tempe kecap (🇮🇩)   \n",
       "2     12167                 asam manis tempe sosis telur puyuh   \n",
       "3     13076                                         oreg tempe   \n",
       "4      3224        ikan bandeng presto salted egg (telur asin)   \n",
       "...     ...                                                ...   \n",
       "1275   5827                                  lapis daging sapi   \n",
       "1276   2448                                   pesmol ikan nila   \n",
       "1277  11007  cloud tuna & egg #ketofriendly #ketopad_cp_sav...   \n",
       "1278   8064                                         pepes tahu   \n",
       "1279   3494                                tenggiri bumbu bali   \n",
       "\n",
       "                                                    tgt basic_ingredient  \n",
       "0     resep: 1 papan tempe  yg ukuran 20 cm @@ 8 bua...            tempe  \n",
       "1     resep: bahan :  @@ 15 - 20 batang buncis ,  ir...            tempe  \n",
       "2     resep: 1 papan tempe @@ sosis  ( merk apa aja ...            tempe  \n",
       "3     resep: 1 papan tempe @@ secukupnya buncis @@ 3...            tempe  \n",
       "4     resep: 2 buah bandeng presto @@ 3 butir telur ...             ikan  \n",
       "...                                                 ...              ...  \n",
       "1275  resep: 750 daging sapi  ( khas dalam )  @@ 3 l...             sapi  \n",
       "1276  resep: 2 ekor ikan nila @@ 1 buah jeruk nipis ...             ikan  \n",
       "1277  resep: 3 butir telur ayam ,  pisahkan putih da...            telur  \n",
       "1278  resep: 3 biji tahu putih @@ 2 batang daun bawa...             tahu  \n",
       "1279  resep: 4 ekor ikan tenggiri @@ 1 buah jeruk ni...             ikan  \n",
       "\n",
       "[1280 rows x 4 columns]"
      ]
     },
     "execution_count": 191,
     "metadata": {},
     "output_type": "execute_result"
    }
   ],
   "source": [
    "df"
   ]
  },
  {
   "cell_type": "code",
   "execution_count": null,
   "metadata": {},
   "outputs": [],
   "source": []
  }
 ],
 "metadata": {
  "kernelspec": {
   "display_name": "Sylveon",
   "language": "python",
   "name": "sylveon"
  },
  "language_info": {
   "codemirror_mode": {
    "name": "ipython",
    "version": 3
   },
   "file_extension": ".py",
   "mimetype": "text/x-python",
   "name": "python",
   "nbconvert_exporter": "python",
   "pygments_lexer": "ipython3",
   "version": "3.8.8"
  }
 },
 "nbformat": 4,
 "nbformat_minor": 4
}
