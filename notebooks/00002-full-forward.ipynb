{
 "cells": [
  {
   "cell_type": "code",
   "execution_count": 1,
   "metadata": {},
   "outputs": [
    {
     "name": "stdout",
     "output_type": "stream",
     "text": [
      "/mnt/data4/haryoaw_workspace/projects/2021_2/mbekk/idrecibrew2\n"
     ]
    }
   ],
   "source": [
    "%cd ..\n",
    "%load_ext autoreload\n",
    "%autoreload 2"
   ]
  },
  {
   "cell_type": "code",
   "execution_count": 2,
   "metadata": {},
   "outputs": [],
   "source": [
    "import pandas as pd"
   ]
  },
  {
   "cell_type": "code",
   "execution_count": 3,
   "metadata": {},
   "outputs": [],
   "source": [
    "from idrecibrew2.data import Seq2SeqDataFactory, Seq2SeqDataFactoryArgs\n",
    "from idrecibrew2.data.indonlg_tokenizer.tokenizer import IndoNLGTokenizer"
   ]
  },
  {
   "cell_type": "code",
   "execution_count": 4,
   "metadata": {},
   "outputs": [
    {
     "data": {
      "application/vnd.jupyter.widget-view+json": {
       "model_id": "9517df7e249144bf9fe3f5e00f7b6a27",
       "version_major": 2,
       "version_minor": 0
      },
      "text/plain": [
       "  0%|          | 0/1 [00:00<?, ?ba/s]"
      ]
     },
     "metadata": {},
     "output_type": "display_data"
    }
   ],
   "source": [
    "tokenizer = IndoNLGTokenizer.from_pretrained(\"indobenchmark/indobart-v2\")\n",
    "data_args = Seq2SeqDataFactoryArgs(\n",
    "    source_column=\"src\",\n",
    "    label_column=\"tgt\",\n",
    "    tokenizer=tokenizer,\n",
    ")\n",
    "data_factory = Seq2SeqDataFactory(data_args=data_args)\n",
    "dtl = data_factory.produce_dataloader_from_csv(\n",
    "    csv_file=\"tests/data_dummy/test.csv\", batch_size=3, n_workers=1, shuffle=True\n",
    ")"
   ]
  },
  {
   "cell_type": "code",
   "execution_count": 5,
   "metadata": {},
   "outputs": [],
   "source": [
    "from pytorch_lightning import Trainer"
   ]
  },
  {
   "cell_type": "code",
   "execution_count": 10,
   "metadata": {},
   "outputs": [
    {
     "name": "stderr",
     "output_type": "stream",
     "text": [
      "GPU available: True, used: False\n",
      "TPU available: False, using: 0 TPU cores\n",
      "IPU available: False, using: 0 IPUs\n"
     ]
    }
   ],
   "source": [
    "trainer = Trainer()"
   ]
  },
  {
   "cell_type": "code",
   "execution_count": 11,
   "metadata": {},
   "outputs": [],
   "source": [
    "from idrecibrew2.model import LitSeq2SeqTransformers, LitSeq2SeqTransformersArgs\n",
    "from idrecibrew2.eval import Seq2SeqTrainingEval\n",
    "from idrecibrew2.data.indonlg_tokenizer.tokenizer import IndoNLGTokenizer\n"
   ]
  },
  {
   "cell_type": "code",
   "execution_count": 12,
   "metadata": {},
   "outputs": [],
   "source": [
    "eval_obj = Seq2SeqTrainingEval(tokenizer=tokenizer)\n",
    "lit_model_args = LitSeq2SeqTransformersArgs(\n",
    "    model_type=\"indobart-v2\",\n",
    "    vocab_size=tokenizer.vocab_size,\n",
    "    optimizer_type=\"adam\",\n",
    "    learning_rate=1e-5,\n",
    ")\n",
    "lit_model = LitSeq2SeqTransformers(config=lit_model_args)\n",
    "lit_model.set_eval_object(eval_obj)"
   ]
  },
  {
   "cell_type": "code",
   "execution_count": null,
   "metadata": {},
   "outputs": [
    {
     "name": "stderr",
     "output_type": "stream",
     "text": [
      "\n",
      "  | Name  | Type                          | Params\n",
      "--------------------------------------------------------\n",
      "0 | model | MBartForConditionalGeneration | 131 M \n",
      "--------------------------------------------------------\n",
      "131 M     Trainable params\n",
      "0         Non-trainable params\n",
      "131 M     Total params\n",
      "526.172   Total estimated model params size (MB)\n"
     ]
    },
    {
     "data": {
      "application/vnd.jupyter.widget-view+json": {
       "model_id": "d48185114b484ea5811032578d8d44e4",
       "version_major": 2,
       "version_minor": 0
      },
      "text/plain": [
       "Validation sanity check: 0it [00:00, ?it/s]"
      ]
     },
     "metadata": {},
     "output_type": "display_data"
    },
    {
     "name": "stdout",
     "output_type": "stream",
     "text": [
      "> \u001b[0;32m/mnt/data4/haryoaw_workspace/projects/2021_2/mbekk/idrecibrew2/idrecibrew2/model/lit_model.py\u001b[0m(67)\u001b[0;36mvalidation_epoch_end\u001b[0;34m()\u001b[0m\n",
      "\u001b[0;32m     65 \u001b[0;31m        \u001b[0;32mif\u001b[0m \u001b[0mself\u001b[0m\u001b[0;34m.\u001b[0m\u001b[0meval_obj\u001b[0m \u001b[0;32mis\u001b[0m \u001b[0;32mnot\u001b[0m \u001b[0;32mNone\u001b[0m\u001b[0;34m:\u001b[0m\u001b[0;34m\u001b[0m\u001b[0;34m\u001b[0m\u001b[0m\n",
      "\u001b[0m\u001b[0;32m     66 \u001b[0;31m            \u001b[0mbreakpoint\u001b[0m\u001b[0;34m(\u001b[0m\u001b[0;34m)\u001b[0m\u001b[0;34m\u001b[0m\u001b[0;34m\u001b[0m\u001b[0m\n",
      "\u001b[0m\u001b[0;32m---> 67 \u001b[0;31m            \u001b[0mbleu_score\u001b[0m \u001b[0;34m=\u001b[0m \u001b[0mself\u001b[0m\u001b[0;34m.\u001b[0m\u001b[0meval_obj\u001b[0m\u001b[0;34m.\u001b[0m\u001b[0mcompute_eval\u001b[0m\u001b[0;34m(\u001b[0m\u001b[0moutputs\u001b[0m\u001b[0;34m[\u001b[0m\u001b[0;34m'preds'\u001b[0m\u001b[0;34m]\u001b[0m\u001b[0;34m,\u001b[0m \u001b[0moutputs\u001b[0m\u001b[0;34m[\u001b[0m\u001b[0;34m'tgts'\u001b[0m\u001b[0;34m]\u001b[0m\u001b[0;34m)\u001b[0m\u001b[0;34m\u001b[0m\u001b[0;34m\u001b[0m\u001b[0m\n",
      "\u001b[0m\u001b[0;32m     68 \u001b[0;31m            \u001b[0mself\u001b[0m\u001b[0;34m.\u001b[0m\u001b[0mlog\u001b[0m\u001b[0;34m(\u001b[0m\u001b[0;34m\"val_bleu\"\u001b[0m\u001b[0;34m,\u001b[0m \u001b[0mbleu_score\u001b[0m\u001b[0;34m,\u001b[0m \u001b[0mprog_bar\u001b[0m\u001b[0;34m=\u001b[0m\u001b[0;32mTrue\u001b[0m\u001b[0;34m)\u001b[0m\u001b[0;34m\u001b[0m\u001b[0;34m\u001b[0m\u001b[0m\n",
      "\u001b[0m\u001b[0;32m     69 \u001b[0;31m\u001b[0;34m\u001b[0m\u001b[0m\n",
      "\u001b[0m\n"
     ]
    },
    {
     "name": "stdin",
     "output_type": "stream",
     "text": [
      "ipdb>  outputs\n"
     ]
    },
    {
     "name": "stdout",
     "output_type": "stream",
     "text": [
      "[{'val_loss': tensor(5.9032), 'preds': tensor([[    2,     0,  3798,  2679,   274,  3798,  2679,   276,     2],\n",
      "        [    2,     0, 10661,  2256, 39936,  2256, 39936,     2,     1],\n",
      "        [    2,     0,  9934,  1564,  4113,     2,     1,     1,     1]]), 'tgts': tensor([[    0,  5943,   274,     2,  -100,  -100],\n",
      "        [    0,  2891,   293, 10829,  1438,     2],\n",
      "        [    0, 21255,     2,  -100,  -100,  -100]])}, {'val_loss': tensor(7.1176), 'preds': tensor([[    2,     0, 22877, 19981,   325,  6627, 19291,  1324,     2],\n",
      "        [    2,     0, 22877, 22877, 22877,     2,     1,     1,     1],\n",
      "        [    2,     0,  4181, 38304,  5743, 12107,  5743, 12107,     2]]), 'tgts': tensor([[    0,  7608, 22877,     2],\n",
      "        [    0,  3457,     2,  -100],\n",
      "        [    0, 24284,     2,  -100]])}]\n"
     ]
    },
    {
     "name": "stdin",
     "output_type": "stream",
     "text": [
      "ipdb>  outputs[0]\n"
     ]
    },
    {
     "name": "stdout",
     "output_type": "stream",
     "text": [
      "{'val_loss': tensor(5.9032), 'preds': tensor([[    2,     0,  3798,  2679,   274,  3798,  2679,   276,     2],\n",
      "        [    2,     0, 10661,  2256, 39936,  2256, 39936,     2,     1],\n",
      "        [    2,     0,  9934,  1564,  4113,     2,     1,     1,     1]]), 'tgts': tensor([[    0,  5943,   274,     2,  -100,  -100],\n",
      "        [    0,  2891,   293, 10829,  1438,     2],\n",
      "        [    0, 21255,     2,  -100,  -100,  -100]])}\n"
     ]
    },
    {
     "name": "stdin",
     "output_type": "stream",
     "text": [
      "ipdb>  outputs[1]\n"
     ]
    },
    {
     "name": "stdout",
     "output_type": "stream",
     "text": [
      "{'val_loss': tensor(7.1176), 'preds': tensor([[    2,     0, 22877, 19981,   325,  6627, 19291,  1324,     2],\n",
      "        [    2,     0, 22877, 22877, 22877,     2,     1,     1,     1],\n",
      "        [    2,     0,  4181, 38304,  5743, 12107,  5743, 12107,     2]]), 'tgts': tensor([[    0,  7608, 22877,     2],\n",
      "        [    0,  3457,     2,  -100],\n",
      "        [    0, 24284,     2,  -100]])}\n"
     ]
    },
    {
     "name": "stdin",
     "output_type": "stream",
     "text": [
      "ipdb>  outputs[2]\n"
     ]
    },
    {
     "name": "stdout",
     "output_type": "stream",
     "text": [
      "*** IndexError: list index out of range\n"
     ]
    },
    {
     "name": "stdin",
     "output_type": "stream",
     "text": [
      "ipdb>  outputs[0]\n"
     ]
    },
    {
     "name": "stdout",
     "output_type": "stream",
     "text": [
      "{'val_loss': tensor(5.9032), 'preds': tensor([[    2,     0,  3798,  2679,   274,  3798,  2679,   276,     2],\n",
      "        [    2,     0, 10661,  2256, 39936,  2256, 39936,     2,     1],\n",
      "        [    2,     0,  9934,  1564,  4113,     2,     1,     1,     1]]), 'tgts': tensor([[    0,  5943,   274,     2,  -100,  -100],\n",
      "        [    0,  2891,   293, 10829,  1438,     2],\n",
      "        [    0, 21255,     2,  -100,  -100,  -100]])}\n"
     ]
    },
    {
     "name": "stdin",
     "output_type": "stream",
     "text": [
      "ipdb>  outputs[1]\n"
     ]
    },
    {
     "name": "stdout",
     "output_type": "stream",
     "text": [
      "{'val_loss': tensor(7.1176), 'preds': tensor([[    2,     0, 22877, 19981,   325,  6627, 19291,  1324,     2],\n",
      "        [    2,     0, 22877, 22877, 22877,     2,     1,     1,     1],\n",
      "        [    2,     0,  4181, 38304,  5743, 12107,  5743, 12107,     2]]), 'tgts': tensor([[    0,  7608, 22877,     2],\n",
      "        [    0,  3457,     2,  -100],\n",
      "        [    0, 24284,     2,  -100]])}\n"
     ]
    }
   ],
   "source": [
    "trainer.fit(lit_model, dtl, dtl)"
   ]
  },
  {
   "cell_type": "code",
   "execution_count": null,
   "metadata": {},
   "outputs": [],
   "source": []
  }
 ],
 "metadata": {
  "interpreter": {
   "hash": "95f30b99fefbe504a71f06ce13ca8c06569550641ec5e366cd8ec530130f11ba"
  },
  "kernelspec": {
   "display_name": "Sylveon",
   "language": "python",
   "name": "sylveon"
  },
  "language_info": {
   "codemirror_mode": {
    "name": "ipython",
    "version": 3
   },
   "file_extension": ".py",
   "mimetype": "text/x-python",
   "name": "python",
   "nbconvert_exporter": "python",
   "pygments_lexer": "ipython3",
   "version": "3.8.8"
  }
 },
 "nbformat": 4,
 "nbformat_minor": 4
}
