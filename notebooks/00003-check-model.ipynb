{
 "cells": [
  {
   "cell_type": "code",
   "execution_count": 1,
   "metadata": {},
   "outputs": [
    {
     "name": "stdout",
     "output_type": "stream",
     "text": [
      "/mnt/data4/haryoaw_workspace/projects/2021_2/mbekk/idrecibrew2\n"
     ]
    }
   ],
   "source": [
    "%cd ..\n",
    "%load_ext autoreload\n",
    "%autoreload 2"
   ]
  },
  {
   "cell_type": "code",
   "execution_count": 2,
   "metadata": {},
   "outputs": [],
   "source": [
    "from idrecibrew2.data import Seq2SeqDataFactory, Seq2SeqDataFactoryArgs\n",
    "from idrecibrew2.data.indonlg_tokenizer.tokenizer import IndoNLGTokenizer\n",
    "from idrecibrew2.model import LitSeq2SeqTransformers"
   ]
  },
  {
   "cell_type": "code",
   "execution_count": 3,
   "metadata": {},
   "outputs": [],
   "source": [
    "import torch"
   ]
  },
  {
   "cell_type": "code",
   "execution_count": 4,
   "metadata": {},
   "outputs": [],
   "source": [
    "import pandas as pd"
   ]
  },
  {
   "cell_type": "code",
   "execution_count": 5,
   "metadata": {},
   "outputs": [],
   "source": [
    "from idrecibrew2.eval.training_eval import Seq2SeqTrainingEval"
   ]
  },
  {
   "cell_type": "code",
   "execution_count": 6,
   "metadata": {},
   "outputs": [],
   "source": [
    "tokenizer = IndoNLGTokenizer.from_pretrained(\"indobenchmark/indobart-v2\")\n"
   ]
  },
  {
   "cell_type": "code",
   "execution_count": 7,
   "metadata": {},
   "outputs": [],
   "source": [
    "evaltrain = Seq2SeqTrainingEval(tokenizer)"
   ]
  },
  {
   "cell_type": "code",
   "execution_count": 8,
   "metadata": {},
   "outputs": [],
   "source": [
    "df = pd.read_csv(\"data/processed/test.csv\")"
   ]
  },
  {
   "cell_type": "code",
   "execution_count": 9,
   "metadata": {},
   "outputs": [],
   "source": [
    "pd.set_option('max_colwidth', 0)"
   ]
  },
  {
   "cell_type": "code",
   "execution_count": 10,
   "metadata": {},
   "outputs": [
    {
     "data": {
      "text/html": [
       "<div>\n",
       "<style scoped>\n",
       "    .dataframe tbody tr th:only-of-type {\n",
       "        vertical-align: middle;\n",
       "    }\n",
       "\n",
       "    .dataframe tbody tr th {\n",
       "        vertical-align: top;\n",
       "    }\n",
       "\n",
       "    .dataframe thead th {\n",
       "        text-align: right;\n",
       "    }\n",
       "</style>\n",
       "<table border=\"1\" class=\"dataframe\">\n",
       "  <thead>\n",
       "    <tr style=\"text-align: right;\">\n",
       "      <th></th>\n",
       "      <th>no</th>\n",
       "      <th>src</th>\n",
       "      <th>tgt</th>\n",
       "      <th>basic_ingredient</th>\n",
       "    </tr>\n",
       "  </thead>\n",
       "  <tbody>\n",
       "    <tr>\n",
       "      <th>1202</th>\n",
       "      <td>10506</td>\n",
       "      <td>baked potato mozarella with egg</td>\n",
       "      <td>2 buah kentang sedang || secukupnya parutan keju kraff || secukupnya parutan mozarella || 1 sdt margarine || sedikit lada hitam || sedikit oregano || 2 butir telur ayam kampung ||</td>\n",
       "      <td>telur</td>\n",
       "    </tr>\n",
       "    <tr>\n",
       "      <th>807</th>\n",
       "      <td>2620</td>\n",
       "      <td>tuna egg muffin #debm #keto</td>\n",
       "      <td>5 butir telur ayam || 6 butir telur puyuh  ( bole skip kl ga suka )  || 1 kaleng tuna || 50 gram keju parut atau sesuai selera || 1 bawang bombay cincang || 1 siung bawang putih || 1 siung bawah merah || 1 batang daun bawang || italian herbs || butter untuk menumis || secukupnya garam lada dan penyedap jamur || 2 sdm santan kara ||</td>\n",
       "      <td>ikan</td>\n",
       "    </tr>\n",
       "  </tbody>\n",
       "</table>\n",
       "</div>"
      ],
      "text/plain": [
       "         no                              src  \\\n",
       "1202  10506  baked potato mozarella with egg   \n",
       "807   2620   tuna egg muffin #debm #keto       \n",
       "\n",
       "                                                                                                                                                                                                                                                                                                                                                 tgt  \\\n",
       "1202  2 buah kentang sedang || secukupnya parutan keju kraff || secukupnya parutan mozarella || 1 sdt margarine || sedikit lada hitam || sedikit oregano || 2 butir telur ayam kampung ||                                                                                                                                                              \n",
       "807   5 butir telur ayam || 6 butir telur puyuh  ( bole skip kl ga suka )  || 1 kaleng tuna || 50 gram keju parut atau sesuai selera || 1 bawang bombay cincang || 1 siung bawang putih || 1 siung bawah merah || 1 batang daun bawang || italian herbs || butter untuk menumis || secukupnya garam lada dan penyedap jamur || 2 sdm santan kara ||    \n",
       "\n",
       "     basic_ingredient  \n",
       "1202  telur            \n",
       "807   ikan             "
      ]
     },
     "execution_count": 10,
     "metadata": {},
     "output_type": "execute_result"
    }
   ],
   "source": [
    "df.sample(2, random_state=5)"
   ]
  },
  {
   "cell_type": "code",
   "execution_count": 25,
   "metadata": {},
   "outputs": [],
   "source": [
    "lit_model = LitSeq2SeqTransformers.load_from_checkpoint(\"outputs/indobert-v2/model-epoch=24-val_loss=1.731-val_bleu=26.443.ckpt\")"
   ]
  },
  {
   "cell_type": "code",
   "execution_count": 116,
   "metadata": {},
   "outputs": [],
   "source": [
    "list_tknz = tokenizer(\"nasi uduk pedas\")['input_ids']"
   ]
  },
  {
   "cell_type": "code",
   "execution_count": 117,
   "metadata": {},
   "outputs": [],
   "source": [
    "result = lit_model.model.generate(torch.LongTensor([list_tknz]), max_length = 500)"
   ]
  },
  {
   "cell_type": "code",
   "execution_count": 118,
   "metadata": {},
   "outputs": [],
   "source": [
    "sys = tokenizer.decode(result[0])"
   ]
  },
  {
   "cell_type": "code",
   "execution_count": 119,
   "metadata": {},
   "outputs": [
    {
     "name": "stdout",
     "output_type": "stream",
     "text": [
      "nasi uduk pedas\n",
      "1 piring nasi uduk \n",
      "2 siung bawang merah \n",
      "3 siung bawang putih \n",
      "1 buah cabe merah besar \n",
      "10 buah cabe rawit \n",
      "2 buah cabe hijau besar \n",
      "1 / 2 buah tomat \n",
      "secukupnya garam \n",
      "secukupnya gula \n",
      "secukupnya penyedap rasa \n",
      "secukupnya kecap manis \n",
      "secukupnya air ||\n"
     ]
    }
   ],
   "source": [
    "print(\"nasi uduk pedas\")\n",
    "print(sys.replace(\"|| \", \"\\n\"))\n"
   ]
  },
  {
   "cell_type": "code",
   "execution_count": 36,
   "metadata": {},
   "outputs": [],
   "source": [
    "out = [\n",
    "    {\n",
    "        \"preds\": result,\n",
    "        \"tgts\": torch.LongTensor([tokenizer(df.iloc[1185].tgt)['input_ids']])\n",
    "    }\n",
    "]"
   ]
  },
  {
   "cell_type": "code",
   "execution_count": 37,
   "metadata": {},
   "outputs": [
    {
     "data": {
      "text/plain": [
       "[{'preds': tensor([[    2,     0,   406,   508,   322,  4498,  1869,  5148,  1320, 11042,\n",
       "            8013,  3103,   406,  8101,  7737, 19955,  3103,   322,  8101,  7737,\n",
       "             722,  9019,  3103,   406, 33638, 21783, 18088,  3103,   406,   508,\n",
       "             647, 33638, 21783, 15194,  3103, 12956,  6229,  3103, 12956,   887,\n",
       "            3103,     2]]),\n",
       "  'tgts': tensor([[    0,   406,   508,   322,  4498,  3269,  4692,  3103,   406,  1782,\n",
       "           39609,  3103,   406,  1782,  4480, 32742,  3103,   322, 35653,  4480,\n",
       "            2074,  1496, 16680,  4635,  3103,   533, 30223,  7727,  3793,  3103,\n",
       "             406,  8101, 19413,  2799,   279, 30008,  3103,   406, 30223, 13238,\n",
       "           20650,  3103,   406, 33638,  4195,  4759,  3103,   406,   508,   647,\n",
       "           33638,  6229,   327,  1437,  1804,  6270,   531, 12839,   388, 13238,\n",
       "           20650,   329,  3103,     2]])}]"
      ]
     },
     "execution_count": 37,
     "metadata": {},
     "output_type": "execute_result"
    }
   ],
   "source": [
    "out"
   ]
  },
  {
   "cell_type": "code",
   "execution_count": 50,
   "metadata": {},
   "outputs": [
    {
     "data": {
      "text/plain": [
       "17.35980334049656"
      ]
     },
     "execution_count": 50,
     "metadata": {},
     "output_type": "execute_result"
    }
   ],
   "source": [
    "evaltrain.compute_eval(out)"
   ]
  },
  {
   "cell_type": "code",
   "execution_count": 83,
   "metadata": {},
   "outputs": [
    {
     "data": {
      "text/plain": [
       "tensor(0.)"
      ]
     },
     "execution_count": 83,
     "metadata": {},
     "output_type": "execute_result"
    }
   ],
   "source": [
    "evaltrain.eval_metric([df.iloc[1185].tgt], coba_lagi)"
   ]
  },
  {
   "cell_type": "code",
   "execution_count": 43,
   "metadata": {},
   "outputs": [],
   "source": [
    "import sacrebleu"
   ]
  },
  {
   "cell_type": "code",
   "execution_count": 76,
   "metadata": {},
   "outputs": [
    {
     "data": {
      "text/plain": [
       "'1 / 2 kg daging sapi || 2 siung bawang putih || 3 siung bawang merah || 1 / 4 sdt lada hitam || secukupnya garam || secukupnya gula pasir || secukupnya minyak goreng ||'"
      ]
     },
     "execution_count": 76,
     "metadata": {},
     "output_type": "execute_result"
    }
   ],
   "source": [
    "()"
   ]
  },
  {
   "cell_type": "code",
   "execution_count": 46,
   "metadata": {},
   "outputs": [],
   "source": [
    "skore= sacrebleu.corpus_bleu(['1 / 2 kg potato mozarella || 1 sdm tepung terigu || 2 sdm tepung tapioka || 1 sdt baking powder || 1 / 4 sdt baking soda || secukupnya garam || secukupnya air ||']\n",
    ", [['1 / 2 kg daging sapi || 1 buah paprika || 1 buah bawang bombay || 2 siung bawang putih dicincang halus || 3 sachet kecap manis || 1 sdm lada hitam, haluskan || 1 sachet saus tiram || 1 sdt gula pasir || 1 / 4 sdt garam ( sedikit aja soalnya sudah asin dari saus tiram ) ||']])"
   ]
  },
  {
   "cell_type": "code",
   "execution_count": 48,
   "metadata": {},
   "outputs": [
    {
     "data": {
      "text/plain": [
       "17.35980334049656"
      ]
     },
     "execution_count": 48,
     "metadata": {},
     "output_type": "execute_result"
    }
   ],
   "source": [
    "skore.score"
   ]
  },
  {
   "cell_type": "code",
   "execution_count": null,
   "metadata": {},
   "outputs": [],
   "source": []
  }
 ],
 "metadata": {
  "kernelspec": {
   "display_name": "Sylveon",
   "language": "python",
   "name": "sylveon"
  },
  "language_info": {
   "codemirror_mode": {
    "name": "ipython",
    "version": 3
   },
   "file_extension": ".py",
   "mimetype": "text/x-python",
   "name": "python",
   "nbconvert_exporter": "python",
   "pygments_lexer": "ipython3",
   "version": "3.8.8"
  }
 },
 "nbformat": 4,
 "nbformat_minor": 4
}
