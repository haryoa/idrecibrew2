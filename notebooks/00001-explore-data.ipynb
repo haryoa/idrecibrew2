{
 "cells": [
  {
   "cell_type": "code",
   "execution_count": 1,
   "metadata": {},
   "outputs": [
    {
     "name": "stdout",
     "output_type": "stream",
     "text": [
      "d:\\Documents\\SelfProject\\IndoRecipe2\n"
     ]
    }
   ],
   "source": [
    "%cd ..\n",
    "%load_ext autoreload\n",
    "%autoreload 2"
   ]
  },
  {
   "cell_type": "code",
   "execution_count": 2,
   "metadata": {},
   "outputs": [],
   "source": [
    "import pandas as pd"
   ]
  },
  {
   "cell_type": "code",
   "execution_count": 3,
   "metadata": {},
   "outputs": [],
   "source": [
    "from datasets import Dataset"
   ]
  },
  {
   "cell_type": "code",
   "execution_count": 4,
   "metadata": {},
   "outputs": [
    {
     "name": "stderr",
     "output_type": "stream",
     "text": [
      "To use data.metrics please install scikit-learn. See https://scikit-learn.org/stable/index.html\n"
     ]
    }
   ],
   "source": [
    "from idrecibrew2.data.indonlg_tokenizer.tokenizer import IndoNLGTokenizer"
   ]
  },
  {
   "cell_type": "code",
   "execution_count": 9,
   "metadata": {},
   "outputs": [
    {
     "ename": "RuntimeError",
     "evalue": "Internal: C:\\projects\\sentencepiece\\src\\sentencepiece_processor.cc(891) [model_proto->ParseFromArray(serialized.data(), serialized.size())] ",
     "output_type": "error",
     "traceback": [
      "\u001b[1;31m---------------------------------------------------------------------------\u001b[0m",
      "\u001b[1;31mRuntimeError\u001b[0m                              Traceback (most recent call last)",
      "\u001b[1;32md:\\Documents\\SelfProject\\IndoRecipe2\\notebooks\\00001-explore-data.ipynb Cell 5'\u001b[0m in \u001b[0;36m<cell line: 1>\u001b[1;34m()\u001b[0m\n\u001b[1;32m----> <a href='vscode-notebook-cell:/d%3A/Documents/SelfProject/IndoRecipe2/notebooks/00001-explore-data.ipynb#ch0000009?line=0'>1</a>\u001b[0m IndoNLGTokenizer\u001b[39m.\u001b[39;49mfrom_pretrained(\u001b[39m\"\u001b[39;49m\u001b[39mindobenchmark/indobart-v2\u001b[39;49m\u001b[39m\"\u001b[39;49m)\n",
      "File \u001b[1;32m~\\miniconda3\\envs\\idrecibrew2\\lib\\site-packages\\transformers\\tokenization_utils.py:282\u001b[0m, in \u001b[0;36mPreTrainedTokenizer.from_pretrained\u001b[1;34m(cls, *inputs, **kwargs)\u001b[0m\n\u001b[0;32m    <a href='file:///c%3A/Users/62852/miniconda3/envs/idrecibrew2/lib/site-packages/transformers/tokenization_utils.py?line=235'>236</a>\u001b[0m \u001b[39m@classmethod\u001b[39m\n\u001b[0;32m    <a href='file:///c%3A/Users/62852/miniconda3/envs/idrecibrew2/lib/site-packages/transformers/tokenization_utils.py?line=236'>237</a>\u001b[0m \u001b[39mdef\u001b[39;00m \u001b[39mfrom_pretrained\u001b[39m(\u001b[39mcls\u001b[39m, \u001b[39m*\u001b[39minputs, \u001b[39m*\u001b[39m\u001b[39m*\u001b[39mkwargs):\n\u001b[0;32m    <a href='file:///c%3A/Users/62852/miniconda3/envs/idrecibrew2/lib/site-packages/transformers/tokenization_utils.py?line=237'>238</a>\u001b[0m     \u001b[39mr\u001b[39m\u001b[39m\"\"\"\u001b[39;00m\n\u001b[0;32m    <a href='file:///c%3A/Users/62852/miniconda3/envs/idrecibrew2/lib/site-packages/transformers/tokenization_utils.py?line=238'>239</a>\u001b[0m \u001b[39m    Instantiate a :class:`~transformers.PreTrainedTokenizer` (or a derived class) from a predefined tokenizer.\u001b[39;00m\n\u001b[0;32m    <a href='file:///c%3A/Users/62852/miniconda3/envs/idrecibrew2/lib/site-packages/transformers/tokenization_utils.py?line=239'>240</a>\u001b[0m \n\u001b[1;32m   (...)\u001b[0m\n\u001b[0;32m    <a href='file:///c%3A/Users/62852/miniconda3/envs/idrecibrew2/lib/site-packages/transformers/tokenization_utils.py?line=279'>280</a>\u001b[0m \n\u001b[0;32m    <a href='file:///c%3A/Users/62852/miniconda3/envs/idrecibrew2/lib/site-packages/transformers/tokenization_utils.py?line=280'>281</a>\u001b[0m \u001b[39m    \"\"\"\u001b[39;00m\n\u001b[1;32m--> <a href='file:///c%3A/Users/62852/miniconda3/envs/idrecibrew2/lib/site-packages/transformers/tokenization_utils.py?line=281'>282</a>\u001b[0m     \u001b[39mreturn\u001b[39;00m \u001b[39mcls\u001b[39;49m\u001b[39m.\u001b[39;49m_from_pretrained(\u001b[39m*\u001b[39;49minputs, \u001b[39m*\u001b[39;49m\u001b[39m*\u001b[39;49mkwargs)\n",
      "File \u001b[1;32m~\\miniconda3\\envs\\idrecibrew2\\lib\\site-packages\\transformers\\tokenization_utils.py:411\u001b[0m, in \u001b[0;36mPreTrainedTokenizer._from_pretrained\u001b[1;34m(cls, pretrained_model_name_or_path, *init_inputs, **kwargs)\u001b[0m\n\u001b[0;32m    <a href='file:///c%3A/Users/62852/miniconda3/envs/idrecibrew2/lib/site-packages/transformers/tokenization_utils.py?line=407'>408</a>\u001b[0m             init_kwargs[key] \u001b[39m=\u001b[39m value\n\u001b[0;32m    <a href='file:///c%3A/Users/62852/miniconda3/envs/idrecibrew2/lib/site-packages/transformers/tokenization_utils.py?line=409'>410</a>\u001b[0m \u001b[39m# Instantiate tokenizer.\u001b[39;00m\n\u001b[1;32m--> <a href='file:///c%3A/Users/62852/miniconda3/envs/idrecibrew2/lib/site-packages/transformers/tokenization_utils.py?line=410'>411</a>\u001b[0m tokenizer \u001b[39m=\u001b[39m \u001b[39mcls\u001b[39;49m(\u001b[39m*\u001b[39;49minit_inputs, \u001b[39m*\u001b[39;49m\u001b[39m*\u001b[39;49minit_kwargs)\n\u001b[0;32m    <a href='file:///c%3A/Users/62852/miniconda3/envs/idrecibrew2/lib/site-packages/transformers/tokenization_utils.py?line=412'>413</a>\u001b[0m \u001b[39m# Save inputs and kwargs for saving and re-loading with ``save_pretrained``\u001b[39;00m\n\u001b[0;32m    <a href='file:///c%3A/Users/62852/miniconda3/envs/idrecibrew2/lib/site-packages/transformers/tokenization_utils.py?line=413'>414</a>\u001b[0m tokenizer\u001b[39m.\u001b[39minit_inputs \u001b[39m=\u001b[39m init_inputs\n",
      "File \u001b[1;32md:\\Documents\\SelfProject\\IndoRecipe2\\idrecibrew2\\data\\indonlg_tokenizer\\tokenizer.py:86\u001b[0m, in \u001b[0;36mIndoNLGTokenizer.__init__\u001b[1;34m(self, vocab_file, decode_special_token, bos_token, eos_token, sep_token, cls_token, unk_token, pad_token, mask_token, additional_special_tokens, **kwargs)\u001b[0m\n\u001b[0;32m     <a href='file:///d%3A/Documents/SelfProject/IndoRecipe2/idrecibrew2/data/indonlg_tokenizer/tokenizer.py?line=72'>73</a>\u001b[0m \u001b[39msuper\u001b[39m()\u001b[39m.\u001b[39m\u001b[39m__init__\u001b[39m(\n\u001b[0;32m     <a href='file:///d%3A/Documents/SelfProject/IndoRecipe2/idrecibrew2/data/indonlg_tokenizer/tokenizer.py?line=73'>74</a>\u001b[0m     vocab_file\u001b[39m=\u001b[39mvocab_file,\n\u001b[0;32m     <a href='file:///d%3A/Documents/SelfProject/IndoRecipe2/idrecibrew2/data/indonlg_tokenizer/tokenizer.py?line=74'>75</a>\u001b[0m     bos_token\u001b[39m=\u001b[39mbos_token,\n\u001b[1;32m   (...)\u001b[0m\n\u001b[0;32m     <a href='file:///d%3A/Documents/SelfProject/IndoRecipe2/idrecibrew2/data/indonlg_tokenizer/tokenizer.py?line=82'>83</a>\u001b[0m     \u001b[39m*\u001b[39m\u001b[39m*\u001b[39mkwargs,\n\u001b[0;32m     <a href='file:///d%3A/Documents/SelfProject/IndoRecipe2/idrecibrew2/data/indonlg_tokenizer/tokenizer.py?line=83'>84</a>\u001b[0m )\n\u001b[0;32m     <a href='file:///d%3A/Documents/SelfProject/IndoRecipe2/idrecibrew2/data/indonlg_tokenizer/tokenizer.py?line=84'>85</a>\u001b[0m \u001b[39mself\u001b[39m\u001b[39m.\u001b[39msp_model \u001b[39m=\u001b[39m spm\u001b[39m.\u001b[39mSentencePieceProcessor()\n\u001b[1;32m---> <a href='file:///d%3A/Documents/SelfProject/IndoRecipe2/idrecibrew2/data/indonlg_tokenizer/tokenizer.py?line=85'>86</a>\u001b[0m \u001b[39mself\u001b[39;49m\u001b[39m.\u001b[39;49msp_model\u001b[39m.\u001b[39;49mLoad(\u001b[39mstr\u001b[39;49m(vocab_file))\n\u001b[0;32m     <a href='file:///d%3A/Documents/SelfProject/IndoRecipe2/idrecibrew2/data/indonlg_tokenizer/tokenizer.py?line=86'>87</a>\u001b[0m \u001b[39mself\u001b[39m\u001b[39m.\u001b[39mvocab_file \u001b[39m=\u001b[39m vocab_file\n\u001b[0;32m     <a href='file:///d%3A/Documents/SelfProject/IndoRecipe2/idrecibrew2/data/indonlg_tokenizer/tokenizer.py?line=87'>88</a>\u001b[0m \u001b[39mself\u001b[39m\u001b[39m.\u001b[39mdecode_special_token \u001b[39m=\u001b[39m decode_special_token\n",
      "File \u001b[1;32m~\\miniconda3\\envs\\idrecibrew2\\lib\\site-packages\\sentencepiece\\__init__.py:367\u001b[0m, in \u001b[0;36mSentencePieceProcessor.Load\u001b[1;34m(self, model_file, model_proto)\u001b[0m\n\u001b[0;32m    <a href='file:///c%3A/Users/62852/miniconda3/envs/idrecibrew2/lib/site-packages/sentencepiece/__init__.py?line=364'>365</a>\u001b[0m \u001b[39mif\u001b[39;00m model_proto:\n\u001b[0;32m    <a href='file:///c%3A/Users/62852/miniconda3/envs/idrecibrew2/lib/site-packages/sentencepiece/__init__.py?line=365'>366</a>\u001b[0m   \u001b[39mreturn\u001b[39;00m \u001b[39mself\u001b[39m\u001b[39m.\u001b[39mLoadFromSerializedProto(model_proto)\n\u001b[1;32m--> <a href='file:///c%3A/Users/62852/miniconda3/envs/idrecibrew2/lib/site-packages/sentencepiece/__init__.py?line=366'>367</a>\u001b[0m \u001b[39mreturn\u001b[39;00m \u001b[39mself\u001b[39;49m\u001b[39m.\u001b[39;49mLoadFromFile(model_file)\n",
      "File \u001b[1;32m~\\miniconda3\\envs\\idrecibrew2\\lib\\site-packages\\sentencepiece\\__init__.py:171\u001b[0m, in \u001b[0;36mSentencePieceProcessor.LoadFromFile\u001b[1;34m(self, arg)\u001b[0m\n\u001b[0;32m    <a href='file:///c%3A/Users/62852/miniconda3/envs/idrecibrew2/lib/site-packages/sentencepiece/__init__.py?line=169'>170</a>\u001b[0m \u001b[39mdef\u001b[39;00m \u001b[39mLoadFromFile\u001b[39m(\u001b[39mself\u001b[39m, arg):\n\u001b[1;32m--> <a href='file:///c%3A/Users/62852/miniconda3/envs/idrecibrew2/lib/site-packages/sentencepiece/__init__.py?line=170'>171</a>\u001b[0m     \u001b[39mreturn\u001b[39;00m _sentencepiece\u001b[39m.\u001b[39;49mSentencePieceProcessor_LoadFromFile(\u001b[39mself\u001b[39;49m, arg)\n",
      "\u001b[1;31mRuntimeError\u001b[0m: Internal: C:\\projects\\sentencepiece\\src\\sentencepiece_processor.cc(891) [model_proto->ParseFromArray(serialized.data(), serialized.size())] "
     ]
    }
   ],
   "source": [
    "IndoNLGTokenizer.from_pretrained(\"indobenchmark/indobart-v2\")"
   ]
  },
  {
   "cell_type": "code",
   "execution_count": null,
   "metadata": {},
   "outputs": [],
   "source": [
    "df = pd.read_csv(\"data/processed/train.csv\")"
   ]
  },
  {
   "cell_type": "code",
   "execution_count": 9,
   "metadata": {},
   "outputs": [],
   "source": [
    "data =Dataset.from_pandas(df)"
   ]
  },
  {
   "cell_type": "code",
   "execution_count": null,
   "metadata": {},
   "outputs": [],
   "source": []
  },
  {
   "cell_type": "code",
   "execution_count": null,
   "metadata": {},
   "outputs": [],
   "source": []
  }
 ],
 "metadata": {
  "interpreter": {
   "hash": "b38e497a6e00af79f39dfb06d7c78cb29c8f7c7071784e03734c5c94decfadf2"
  },
  "kernelspec": {
   "display_name": "Python 3.9.11 ('idrecibrew')",
   "language": "python",
   "name": "python3"
  },
  "language_info": {
   "codemirror_mode": {
    "name": "ipython",
    "version": 3
   },
   "file_extension": ".py",
   "mimetype": "text/x-python",
   "name": "python",
   "nbconvert_exporter": "python",
   "pygments_lexer": "ipython3",
   "version": "3.8.13"
  },
  "orig_nbformat": 4
 },
 "nbformat": 4,
 "nbformat_minor": 2
}
